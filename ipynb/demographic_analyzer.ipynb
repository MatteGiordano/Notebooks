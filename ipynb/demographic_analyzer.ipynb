{
 "cells": [
  {
   "cell_type": "markdown",
   "metadata": {},
   "source": [
    "### Demographic analyzer\n",
    "#### Second Project"
   ]
  },
  {
   "cell_type": "code",
   "execution_count": 3,
   "metadata": {},
   "outputs": [
    {
     "data": {
      "text/plain": [
       "Index(['age', 'workclass', 'fnlwgt', 'education', 'education-num',\n",
       "       'marital-status', 'occupation', 'relationship', 'race', 'sex',\n",
       "       'capital-gain', 'capital-loss', 'hours-per-week', 'native-country',\n",
       "       'salary'],\n",
       "      dtype='object')"
      ]
     },
     "execution_count": 3,
     "metadata": {},
     "output_type": "execute_result"
    }
   ],
   "source": [
    "import pandas as pd\n",
    "import numpy as np\n",
    "\n",
    "df = pd.read_csv(\"../csv/adult.data.csv\")\n",
    "df.columns"
   ]
  },
  {
   "cell_type": "code",
   "execution_count": 2,
   "metadata": {},
   "outputs": [
    {
     "data": {
      "text/html": [
       "<div>\n",
       "<style scoped>\n",
       "    .dataframe tbody tr th:only-of-type {\n",
       "        vertical-align: middle;\n",
       "    }\n",
       "\n",
       "    .dataframe tbody tr th {\n",
       "        vertical-align: top;\n",
       "    }\n",
       "\n",
       "    .dataframe thead th {\n",
       "        text-align: right;\n",
       "    }\n",
       "</style>\n",
       "<table border=\"1\" class=\"dataframe\">\n",
       "  <thead>\n",
       "    <tr style=\"text-align: right;\">\n",
       "      <th></th>\n",
       "      <th>age</th>\n",
       "      <th>workclass</th>\n",
       "      <th>fnlwgt</th>\n",
       "      <th>education</th>\n",
       "      <th>education-num</th>\n",
       "      <th>marital-status</th>\n",
       "      <th>occupation</th>\n",
       "      <th>relationship</th>\n",
       "      <th>race</th>\n",
       "      <th>sex</th>\n",
       "      <th>capital-gain</th>\n",
       "      <th>capital-loss</th>\n",
       "      <th>hours-per-week</th>\n",
       "      <th>native-country</th>\n",
       "      <th>salary</th>\n",
       "    </tr>\n",
       "  </thead>\n",
       "  <tbody>\n",
       "    <tr>\n",
       "      <th>0</th>\n",
       "      <td>39</td>\n",
       "      <td>State-gov</td>\n",
       "      <td>77516</td>\n",
       "      <td>Bachelors</td>\n",
       "      <td>13</td>\n",
       "      <td>Never-married</td>\n",
       "      <td>Adm-clerical</td>\n",
       "      <td>Not-in-family</td>\n",
       "      <td>White</td>\n",
       "      <td>Male</td>\n",
       "      <td>2174</td>\n",
       "      <td>0</td>\n",
       "      <td>40</td>\n",
       "      <td>United-States</td>\n",
       "      <td>&lt;=50K</td>\n",
       "    </tr>\n",
       "    <tr>\n",
       "      <th>1</th>\n",
       "      <td>50</td>\n",
       "      <td>Self-emp-not-inc</td>\n",
       "      <td>83311</td>\n",
       "      <td>Bachelors</td>\n",
       "      <td>13</td>\n",
       "      <td>Married-civ-spouse</td>\n",
       "      <td>Exec-managerial</td>\n",
       "      <td>Husband</td>\n",
       "      <td>White</td>\n",
       "      <td>Male</td>\n",
       "      <td>0</td>\n",
       "      <td>0</td>\n",
       "      <td>13</td>\n",
       "      <td>United-States</td>\n",
       "      <td>&lt;=50K</td>\n",
       "    </tr>\n",
       "    <tr>\n",
       "      <th>2</th>\n",
       "      <td>38</td>\n",
       "      <td>Private</td>\n",
       "      <td>215646</td>\n",
       "      <td>HS-grad</td>\n",
       "      <td>9</td>\n",
       "      <td>Divorced</td>\n",
       "      <td>Handlers-cleaners</td>\n",
       "      <td>Not-in-family</td>\n",
       "      <td>White</td>\n",
       "      <td>Male</td>\n",
       "      <td>0</td>\n",
       "      <td>0</td>\n",
       "      <td>40</td>\n",
       "      <td>United-States</td>\n",
       "      <td>&lt;=50K</td>\n",
       "    </tr>\n",
       "    <tr>\n",
       "      <th>3</th>\n",
       "      <td>53</td>\n",
       "      <td>Private</td>\n",
       "      <td>234721</td>\n",
       "      <td>11th</td>\n",
       "      <td>7</td>\n",
       "      <td>Married-civ-spouse</td>\n",
       "      <td>Handlers-cleaners</td>\n",
       "      <td>Husband</td>\n",
       "      <td>Black</td>\n",
       "      <td>Male</td>\n",
       "      <td>0</td>\n",
       "      <td>0</td>\n",
       "      <td>40</td>\n",
       "      <td>United-States</td>\n",
       "      <td>&lt;=50K</td>\n",
       "    </tr>\n",
       "    <tr>\n",
       "      <th>4</th>\n",
       "      <td>28</td>\n",
       "      <td>Private</td>\n",
       "      <td>338409</td>\n",
       "      <td>Bachelors</td>\n",
       "      <td>13</td>\n",
       "      <td>Married-civ-spouse</td>\n",
       "      <td>Prof-specialty</td>\n",
       "      <td>Wife</td>\n",
       "      <td>Black</td>\n",
       "      <td>Female</td>\n",
       "      <td>0</td>\n",
       "      <td>0</td>\n",
       "      <td>40</td>\n",
       "      <td>Cuba</td>\n",
       "      <td>&lt;=50K</td>\n",
       "    </tr>\n",
       "  </tbody>\n",
       "</table>\n",
       "</div>"
      ],
      "text/plain": [
       "   age         workclass  fnlwgt  education  education-num  \\\n",
       "0   39         State-gov   77516  Bachelors             13   \n",
       "1   50  Self-emp-not-inc   83311  Bachelors             13   \n",
       "2   38           Private  215646    HS-grad              9   \n",
       "3   53           Private  234721       11th              7   \n",
       "4   28           Private  338409  Bachelors             13   \n",
       "\n",
       "       marital-status         occupation   relationship   race     sex  \\\n",
       "0       Never-married       Adm-clerical  Not-in-family  White    Male   \n",
       "1  Married-civ-spouse    Exec-managerial        Husband  White    Male   \n",
       "2            Divorced  Handlers-cleaners  Not-in-family  White    Male   \n",
       "3  Married-civ-spouse  Handlers-cleaners        Husband  Black    Male   \n",
       "4  Married-civ-spouse     Prof-specialty           Wife  Black  Female   \n",
       "\n",
       "   capital-gain  capital-loss  hours-per-week native-country salary  \n",
       "0          2174             0              40  United-States  <=50K  \n",
       "1             0             0              13  United-States  <=50K  \n",
       "2             0             0              40  United-States  <=50K  \n",
       "3             0             0              40  United-States  <=50K  \n",
       "4             0             0              40           Cuba  <=50K  "
      ]
     },
     "execution_count": 2,
     "metadata": {},
     "output_type": "execute_result"
    }
   ],
   "source": [
    "df.head()"
   ]
  },
  {
   "cell_type": "code",
   "execution_count": 80,
   "metadata": {},
   "outputs": [
    {
     "data": {
      "text/plain": [
       "pandas.core.series.Series"
      ]
     },
     "execution_count": 80,
     "metadata": {},
     "output_type": "execute_result"
    }
   ],
   "source": [
    "race_count = df[\"race\"].value_counts()\n",
    "type(race_count)"
   ]
  },
  {
   "cell_type": "code",
   "execution_count": 4,
   "metadata": {},
   "outputs": [
    {
     "data": {
      "text/plain": [
       "39.43354749885268"
      ]
     },
     "execution_count": 4,
     "metadata": {},
     "output_type": "execute_result"
    }
   ],
   "source": [
    "filter_male = df[\"sex\"]==\"Male\"\n",
    "df.age[filter_male].mean()"
   ]
  },
  {
   "cell_type": "code",
   "execution_count": 89,
   "metadata": {},
   "outputs": [],
   "source": [
    "bachelors_number = len(df.education[df[\"education\"]==\"Bachelors\"])\n",
    "total_population = len(df)\n",
    "\n",
    "percentage_bachelors = bachelors_number/total_population\n",
    "formatted_percentage_bachelors = \"{:.0%}\".format(percentage_bachelors)\n",
    "\n",
    "formatted_percentage_bachelors_1 = \"{:.10%}\".format(percentage_bachelors)\n",
    "\n"
   ]
  },
  {
   "cell_type": "code",
   "execution_count": 6,
   "metadata": {},
   "outputs": [
    {
     "data": {
      "text/plain": [
       "array(['Bachelors', 'HS-grad', '11th', 'Masters', '9th', 'Some-college',\n",
       "       'Assoc-acdm', 'Assoc-voc', '7th-8th', 'Doctorate', 'Prof-school',\n",
       "       '5th-6th', '10th', '1st-4th', 'Preschool', '12th'], dtype=object)"
      ]
     },
     "execution_count": 6,
     "metadata": {},
     "output_type": "execute_result"
    }
   ],
   "source": [
    "df[\"education\"].unique()"
   ]
  },
  {
   "cell_type": "code",
   "execution_count": 7,
   "metadata": {},
   "outputs": [
    {
     "data": {
      "text/plain": [
       "array(['<=50K', '>50K'], dtype=object)"
      ]
     },
     "execution_count": 7,
     "metadata": {},
     "output_type": "execute_result"
    }
   ],
   "source": [
    "df[\"salary\"].unique()"
   ]
  },
  {
   "cell_type": "code",
   "execution_count": 8,
   "metadata": {},
   "outputs": [],
   "source": [
    "rich_with_degrees = df[(df[\"salary\"]==\">50K\") & ((df[\"education\"]==\"Bachelors\")|(df[\"education\"]==\"Masters\")|(df[\"education\"]==\"Doctorate\"))]\n",
    "\n",
    "total_with_degrees = df[(df[\"education\"]==\"Bachelors\")|(df[\"education\"]==\"Masters\")|(df[\"education\"]==\"Doctorate\")]\n"
   ]
  },
  {
   "cell_type": "code",
   "execution_count": 90,
   "metadata": {},
   "outputs": [
    {
     "data": {
      "text/plain": [
       "'46.54%'"
      ]
     },
     "execution_count": 90,
     "metadata": {},
     "output_type": "execute_result"
    }
   ],
   "source": [
    "percentage_rich = len(rich_with_degrees)/len(total_with_degrees)\n",
    "formatted_percentage_rich = \"{:.2%}\".format(percentage_rich)\n",
    "\n",
    "formatted_percentage_rich"
   ]
  },
  {
   "cell_type": "code",
   "execution_count": 10,
   "metadata": {},
   "outputs": [],
   "source": [
    "rich_without_degrees = df[(df[\"salary\"]==\">50K\") & ((df[\"education\"]!=\"Bachelors\") & (df[\"education\"]!=\"Masters\") & (df[\"education\"]!=\"Doctorate\"))]\n",
    "\n",
    "total_without_degrees = df[((df[\"education\"]!=\"Bachelors\") & (df[\"education\"]!=\"Masters\") & (df[\"education\"]!=\"Doctorate\"))]"
   ]
  },
  {
   "cell_type": "code",
   "execution_count": 11,
   "metadata": {},
   "outputs": [
    {
     "data": {
      "text/plain": [
       "'17.37%'"
      ]
     },
     "execution_count": 11,
     "metadata": {},
     "output_type": "execute_result"
    }
   ],
   "source": [
    "percentage_rich_nodegree = len(rich_without_degrees)/len(total_without_degrees)\n",
    "formatted_percentage_rich_nodegree = \"{:.2%}\".format(percentage_rich_nodegree)\n",
    "\n",
    "formatted_percentage_rich_nodegree"
   ]
  },
  {
   "cell_type": "code",
   "execution_count": 12,
   "metadata": {},
   "outputs": [
    {
     "data": {
      "text/plain": [
       "1"
      ]
     },
     "execution_count": 12,
     "metadata": {},
     "output_type": "execute_result"
    }
   ],
   "source": [
    "df[\"hours-per-week\"].min()"
   ]
  },
  {
   "cell_type": "code",
   "execution_count": 13,
   "metadata": {},
   "outputs": [],
   "source": [
    "people_working_min = df[df[\"hours-per-week\"] == df[\"hours-per-week\"].min()]\n",
    "\n",
    "rich_people_working_min = df[(df[\"hours-per-week\"] == df[\"hours-per-week\"].min()) & (df[\"salary\"]==\">50K\")]"
   ]
  },
  {
   "cell_type": "code",
   "execution_count": 22,
   "metadata": {},
   "outputs": [
    {
     "data": {
      "text/plain": [
       "'10.00%'"
      ]
     },
     "execution_count": 22,
     "metadata": {},
     "output_type": "execute_result"
    }
   ],
   "source": [
    "percentage_rich_work_min = len(rich_people_working_min)/len(people_working_min)\n",
    "formatted_percentage_rich_work_min = \"{:.2%}\".format(percentage_rich_work_min)\n",
    "\n",
    "formatted_percentage_rich_work_min"
   ]
  },
  {
   "cell_type": "code",
   "execution_count": 15,
   "metadata": {},
   "outputs": [
    {
     "data": {
      "text/plain": [
       "array(['United-States', 'Cuba', 'Jamaica', 'India', '?', 'Mexico',\n",
       "       'South', 'Puerto-Rico', 'Honduras', 'England', 'Canada', 'Germany',\n",
       "       'Iran', 'Philippines', 'Italy', 'Poland', 'Columbia', 'Cambodia',\n",
       "       'Thailand', 'Ecuador', 'Laos', 'Taiwan', 'Haiti', 'Portugal',\n",
       "       'Dominican-Republic', 'El-Salvador', 'France', 'Guatemala',\n",
       "       'China', 'Japan', 'Yugoslavia', 'Peru',\n",
       "       'Outlying-US(Guam-USVI-etc)', 'Scotland', 'Trinadad&Tobago',\n",
       "       'Greece', 'Nicaragua', 'Vietnam', 'Hong', 'Ireland', 'Hungary',\n",
       "       'Holand-Netherlands'], dtype=object)"
      ]
     },
     "execution_count": 15,
     "metadata": {},
     "output_type": "execute_result"
    }
   ],
   "source": [
    "df[\"native-country\"].unique()"
   ]
  },
  {
   "cell_type": "code",
   "execution_count": 16,
   "metadata": {},
   "outputs": [],
   "source": [
    "df[\"native-country\"].replace(\"Trinadad&Tobago\",\"Trinidad&Tobago\",inplace=True)\n"
   ]
  },
  {
   "cell_type": "code",
   "execution_count": 18,
   "metadata": {},
   "outputs": [],
   "source": [
    "df[\"native-country\"].replace(\"?\",np.nan,inplace=True)\n"
   ]
  },
  {
   "cell_type": "code",
   "execution_count": 19,
   "metadata": {},
   "outputs": [],
   "source": [
    "df[\"native-country\"].dropna(inplace=True)\n"
   ]
  },
  {
   "cell_type": "code",
   "execution_count": 25,
   "metadata": {},
   "outputs": [],
   "source": [
    "country = df[\"native-country\"]\n"
   ]
  },
  {
   "cell_type": "code",
   "execution_count": 40,
   "metadata": {},
   "outputs": [
    {
     "data": {
      "text/plain": [
       "[7171,\n",
       " 25,\n",
       " 10,\n",
       " 40,\n",
       " 0,\n",
       " 33,\n",
       " 16,\n",
       " 12,\n",
       " 1,\n",
       " 30,\n",
       " 39,\n",
       " 44,\n",
       " 18,\n",
       " 61,\n",
       " 25,\n",
       " 12,\n",
       " 2,\n",
       " 7,\n",
       " 3,\n",
       " 4,\n",
       " 2,\n",
       " 20,\n",
       " 4,\n",
       " 4,\n",
       " 2,\n",
       " 9,\n",
       " 12,\n",
       " 3,\n",
       " 20,\n",
       " 24,\n",
       " 6,\n",
       " 2,\n",
       " 0,\n",
       " 3,\n",
       " 2,\n",
       " 8,\n",
       " 2,\n",
       " 5,\n",
       " 6,\n",
       " 5,\n",
       " 3,\n",
       " 0]"
      ]
     },
     "execution_count": 40,
     "metadata": {},
     "output_type": "execute_result"
    }
   ],
   "source": [
    "check = []\n",
    "\n",
    "for i in df[\"native-country\"].unique():\n",
    "    rich = len(df[(df[\"native-country\"]==i) & (df[\"salary\"] == \">50K\")])\n",
    "    check.append(rich)\n",
    "\n",
    "check   \n"
   ]
  },
  {
   "cell_type": "code",
   "execution_count": 61,
   "metadata": {},
   "outputs": [
    {
     "data": {
      "text/plain": [
       "{'United-States': 0.24583476174151525,\n",
       " 'Cuba': 0.2631578947368421,\n",
       " 'Jamaica': 0.12345679012345678,\n",
       " 'India': 0.4,\n",
       " 'Mexico': 0.05132192846034215,\n",
       " 'South': 0.2,\n",
       " 'Puerto-Rico': 0.10526315789473684,\n",
       " 'Honduras': 0.07692307692307693,\n",
       " 'England': 0.3333333333333333,\n",
       " 'Canada': 0.32231404958677684,\n",
       " 'Germany': 0.32116788321167883,\n",
       " 'Iran': 0.4186046511627907,\n",
       " 'Philippines': 0.30808080808080807,\n",
       " 'Italy': 0.3424657534246575,\n",
       " 'Poland': 0.2,\n",
       " 'Columbia': 0.03389830508474576,\n",
       " 'Cambodia': 0.3684210526315789,\n",
       " 'Thailand': 0.16666666666666666,\n",
       " 'Ecuador': 0.14285714285714285,\n",
       " 'Laos': 0.1111111111111111,\n",
       " 'Taiwan': 0.39215686274509803,\n",
       " 'Haiti': 0.09090909090909091,\n",
       " 'Portugal': 0.10810810810810811,\n",
       " 'Dominican-Republic': 0.02857142857142857,\n",
       " 'El-Salvador': 0.08490566037735849,\n",
       " 'France': 0.41379310344827586,\n",
       " 'Guatemala': 0.046875,\n",
       " 'China': 0.26666666666666666,\n",
       " 'Japan': 0.3870967741935484,\n",
       " 'Yugoslavia': 0.375,\n",
       " 'Peru': 0.06451612903225806,\n",
       " 'Scotland': 0.25,\n",
       " 'Trinidad&Tobago': 0.10526315789473684,\n",
       " 'Greece': 0.27586206896551724,\n",
       " 'Nicaragua': 0.058823529411764705,\n",
       " 'Vietnam': 0.07462686567164178,\n",
       " 'Hong': 0.3,\n",
       " 'Ireland': 0.20833333333333334,\n",
       " 'Hungary': 0.23076923076923078}"
      ]
     },
     "execution_count": 61,
     "metadata": {},
     "output_type": "execute_result"
    }
   ],
   "source": [
    "countries_and_perc = {}\n",
    "for i in df[\"native-country\"].unique():\n",
    "    total_natives_of_country = len(df[country==i])\n",
    "    rich_people_of_country = len(df[(df[\"native-country\"]==i) & (df[\"salary\"] == \">50K\")])\n",
    "    \n",
    "    if rich_people_of_country != 0:\n",
    "        perc_rich_people_of_country = rich_people_of_country/total_natives_of_country\n",
    "        countries_and_perc[i] = perc_rich_people_of_country\n",
    "\n",
    "countries_and_perc"
   ]
  },
  {
   "cell_type": "code",
   "execution_count": 56,
   "metadata": {},
   "outputs": [],
   "source": [
    "def get_keys_from_value(dictionary,value_to_retrieve):\n",
    "    \"\"\"Retrieve the list of keys associated with a given value in a dictionary.\"\"\"\n",
    "    retrieved_keys = []\n",
    "    for key,value in dictionary.items():\n",
    "        if value == value_to_retrieve:\n",
    "            retrieved_keys.append(key)\n",
    "    return retrieved_keys"
   ]
  },
  {
   "cell_type": "code",
   "execution_count": 94,
   "metadata": {},
   "outputs": [
    {
     "data": {
      "text/plain": [
       "['Iran']"
      ]
     },
     "execution_count": 94,
     "metadata": {},
     "output_type": "execute_result"
    }
   ],
   "source": [
    "max_percentage_dictionary = np.max(list(countries_and_perc.values()))\n",
    "\n",
    "country_max_percentage = get_keys_from_value(countries_and_perc,max_percentage_dictionary)\n",
    "\n",
    "country_max_percentage"
   ]
  },
  {
   "cell_type": "code",
   "execution_count": 98,
   "metadata": {},
   "outputs": [
    {
     "data": {
      "text/plain": [
       "'Prof-specialty'"
      ]
     },
     "execution_count": 98,
     "metadata": {},
     "output_type": "execute_result"
    }
   ],
   "source": [
    "rich_indian_people = df[(df[\"native-country\"]==\"India\") & (df[\"salary\"]==\">50K\")]\n",
    "\n",
    "rich = rich_indian_people[\"occupation\"].mode()\n",
    "\n",
    "rich.values[0]"
   ]
  }
 ],
 "metadata": {
  "kernelspec": {
   "display_name": "Python 3",
   "language": "python",
   "name": "python3"
  },
  "language_info": {
   "codemirror_mode": {
    "name": "ipython",
    "version": 3
   },
   "file_extension": ".py",
   "mimetype": "text/x-python",
   "name": "python",
   "nbconvert_exporter": "python",
   "pygments_lexer": "ipython3",
   "version": "3.11.6"
  }
 },
 "nbformat": 4,
 "nbformat_minor": 2
}
