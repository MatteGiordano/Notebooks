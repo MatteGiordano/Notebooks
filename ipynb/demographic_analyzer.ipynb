{
 "cells": [
  {
   "cell_type": "markdown",
   "metadata": {},
   "source": [
    "### Demographic analyzer\n",
    "##### In this project, we look at demographic data from the US Census: we explore the dataset, we clean when necessary, and ask a few questions."
   ]
  },
  {
   "cell_type": "code",
   "execution_count": 45,
   "metadata": {},
   "outputs": [
    {
     "data": {
      "text/plain": [
       "Index(['age', 'workclass', 'fnlwgt', 'education', 'education-num',\n",
       "       'marital-status', 'occupation', 'relationship', 'race', 'sex',\n",
       "       'capital-gain', 'capital-loss', 'hours-per-week', 'native-country',\n",
       "       'salary'],\n",
       "      dtype='object')"
      ]
     },
     "execution_count": 45,
     "metadata": {},
     "output_type": "execute_result"
    }
   ],
   "source": [
    "import pandas as pd\n",
    "import numpy as np\n",
    "\n",
    "df = pd.read_csv(\"../csv/adult.data.csv\")\n",
    "df.columns"
   ]
  },
  {
   "cell_type": "code",
   "execution_count": 46,
   "metadata": {},
   "outputs": [
    {
     "data": {
      "text/html": [
       "<div>\n",
       "<style scoped>\n",
       "    .dataframe tbody tr th:only-of-type {\n",
       "        vertical-align: middle;\n",
       "    }\n",
       "\n",
       "    .dataframe tbody tr th {\n",
       "        vertical-align: top;\n",
       "    }\n",
       "\n",
       "    .dataframe thead th {\n",
       "        text-align: right;\n",
       "    }\n",
       "</style>\n",
       "<table border=\"1\" class=\"dataframe\">\n",
       "  <thead>\n",
       "    <tr style=\"text-align: right;\">\n",
       "      <th></th>\n",
       "      <th>age</th>\n",
       "      <th>workclass</th>\n",
       "      <th>fnlwgt</th>\n",
       "      <th>education</th>\n",
       "      <th>education-num</th>\n",
       "      <th>marital-status</th>\n",
       "      <th>occupation</th>\n",
       "      <th>relationship</th>\n",
       "      <th>race</th>\n",
       "      <th>sex</th>\n",
       "      <th>capital-gain</th>\n",
       "      <th>capital-loss</th>\n",
       "      <th>hours-per-week</th>\n",
       "      <th>native-country</th>\n",
       "      <th>salary</th>\n",
       "    </tr>\n",
       "  </thead>\n",
       "  <tbody>\n",
       "    <tr>\n",
       "      <th>0</th>\n",
       "      <td>39</td>\n",
       "      <td>State-gov</td>\n",
       "      <td>77516</td>\n",
       "      <td>Bachelors</td>\n",
       "      <td>13</td>\n",
       "      <td>Never-married</td>\n",
       "      <td>Adm-clerical</td>\n",
       "      <td>Not-in-family</td>\n",
       "      <td>White</td>\n",
       "      <td>Male</td>\n",
       "      <td>2174</td>\n",
       "      <td>0</td>\n",
       "      <td>40</td>\n",
       "      <td>United-States</td>\n",
       "      <td>&lt;=50K</td>\n",
       "    </tr>\n",
       "    <tr>\n",
       "      <th>1</th>\n",
       "      <td>50</td>\n",
       "      <td>Self-emp-not-inc</td>\n",
       "      <td>83311</td>\n",
       "      <td>Bachelors</td>\n",
       "      <td>13</td>\n",
       "      <td>Married-civ-spouse</td>\n",
       "      <td>Exec-managerial</td>\n",
       "      <td>Husband</td>\n",
       "      <td>White</td>\n",
       "      <td>Male</td>\n",
       "      <td>0</td>\n",
       "      <td>0</td>\n",
       "      <td>13</td>\n",
       "      <td>United-States</td>\n",
       "      <td>&lt;=50K</td>\n",
       "    </tr>\n",
       "    <tr>\n",
       "      <th>2</th>\n",
       "      <td>38</td>\n",
       "      <td>Private</td>\n",
       "      <td>215646</td>\n",
       "      <td>HS-grad</td>\n",
       "      <td>9</td>\n",
       "      <td>Divorced</td>\n",
       "      <td>Handlers-cleaners</td>\n",
       "      <td>Not-in-family</td>\n",
       "      <td>White</td>\n",
       "      <td>Male</td>\n",
       "      <td>0</td>\n",
       "      <td>0</td>\n",
       "      <td>40</td>\n",
       "      <td>United-States</td>\n",
       "      <td>&lt;=50K</td>\n",
       "    </tr>\n",
       "    <tr>\n",
       "      <th>3</th>\n",
       "      <td>53</td>\n",
       "      <td>Private</td>\n",
       "      <td>234721</td>\n",
       "      <td>11th</td>\n",
       "      <td>7</td>\n",
       "      <td>Married-civ-spouse</td>\n",
       "      <td>Handlers-cleaners</td>\n",
       "      <td>Husband</td>\n",
       "      <td>Black</td>\n",
       "      <td>Male</td>\n",
       "      <td>0</td>\n",
       "      <td>0</td>\n",
       "      <td>40</td>\n",
       "      <td>United-States</td>\n",
       "      <td>&lt;=50K</td>\n",
       "    </tr>\n",
       "    <tr>\n",
       "      <th>4</th>\n",
       "      <td>28</td>\n",
       "      <td>Private</td>\n",
       "      <td>338409</td>\n",
       "      <td>Bachelors</td>\n",
       "      <td>13</td>\n",
       "      <td>Married-civ-spouse</td>\n",
       "      <td>Prof-specialty</td>\n",
       "      <td>Wife</td>\n",
       "      <td>Black</td>\n",
       "      <td>Female</td>\n",
       "      <td>0</td>\n",
       "      <td>0</td>\n",
       "      <td>40</td>\n",
       "      <td>Cuba</td>\n",
       "      <td>&lt;=50K</td>\n",
       "    </tr>\n",
       "  </tbody>\n",
       "</table>\n",
       "</div>"
      ],
      "text/plain": [
       "   age         workclass  fnlwgt  education  education-num  \\\n",
       "0   39         State-gov   77516  Bachelors             13   \n",
       "1   50  Self-emp-not-inc   83311  Bachelors             13   \n",
       "2   38           Private  215646    HS-grad              9   \n",
       "3   53           Private  234721       11th              7   \n",
       "4   28           Private  338409  Bachelors             13   \n",
       "\n",
       "       marital-status         occupation   relationship   race     sex  \\\n",
       "0       Never-married       Adm-clerical  Not-in-family  White    Male   \n",
       "1  Married-civ-spouse    Exec-managerial        Husband  White    Male   \n",
       "2            Divorced  Handlers-cleaners  Not-in-family  White    Male   \n",
       "3  Married-civ-spouse  Handlers-cleaners        Husband  Black    Male   \n",
       "4  Married-civ-spouse     Prof-specialty           Wife  Black  Female   \n",
       "\n",
       "   capital-gain  capital-loss  hours-per-week native-country salary  \n",
       "0          2174             0              40  United-States  <=50K  \n",
       "1             0             0              13  United-States  <=50K  \n",
       "2             0             0              40  United-States  <=50K  \n",
       "3             0             0              40  United-States  <=50K  \n",
       "4             0             0              40           Cuba  <=50K  "
      ]
     },
     "execution_count": 46,
     "metadata": {},
     "output_type": "execute_result"
    }
   ],
   "source": [
    "df.head()"
   ]
  },
  {
   "cell_type": "markdown",
   "metadata": {},
   "source": [
    "How many people per each race group we have in the sample?"
   ]
  },
  {
   "cell_type": "code",
   "execution_count": 47,
   "metadata": {},
   "outputs": [
    {
     "data": {
      "text/plain": [
       "race\n",
       "White                 27816\n",
       "Black                  3124\n",
       "Asian-Pac-Islander     1039\n",
       "Amer-Indian-Eskimo      311\n",
       "Other                   271\n",
       "Name: count, dtype: int64"
      ]
     },
     "execution_count": 47,
     "metadata": {},
     "output_type": "execute_result"
    }
   ],
   "source": [
    "race_count = df[\"race\"].value_counts()\n",
    "race_count"
   ]
  },
  {
   "cell_type": "markdown",
   "metadata": {},
   "source": [
    "What is the average age for male individuals in the sample?"
   ]
  },
  {
   "cell_type": "code",
   "execution_count": 48,
   "metadata": {},
   "outputs": [
    {
     "data": {
      "text/plain": [
       "39.43354749885268"
      ]
     },
     "execution_count": 48,
     "metadata": {},
     "output_type": "execute_result"
    }
   ],
   "source": [
    "filter_male = df[\"sex\"]==\"Male\"\n",
    "df.age[filter_male].mean()"
   ]
  },
  {
   "cell_type": "markdown",
   "metadata": {},
   "source": [
    "How big is the portion of people holding a bachelor's degree?"
   ]
  },
  {
   "cell_type": "code",
   "execution_count": 49,
   "metadata": {},
   "outputs": [
    {
     "name": "stdout",
     "output_type": "stream",
     "text": [
      "The percentage of people from the sample having a Bachelor's degree is 16%\n"
     ]
    }
   ],
   "source": [
    "bachelors_number = len(df.education[df[\"education\"]==\"Bachelors\"])\n",
    "total_population = len(df)\n",
    "\n",
    "percentage_bachelors = bachelors_number/total_population\n",
    "formatted_percentage_bachelors = \"{:.0%}\".format(percentage_bachelors)\n",
    "\n",
    "print(f\"The percentage of people from the sample having a Bachelor's degree is {formatted_percentage_bachelors}\")"
   ]
  },
  {
   "cell_type": "code",
   "execution_count": 50,
   "metadata": {},
   "outputs": [
    {
     "data": {
      "text/plain": [
       "array(['Bachelors', 'HS-grad', '11th', 'Masters', '9th', 'Some-college',\n",
       "       'Assoc-acdm', 'Assoc-voc', '7th-8th', 'Doctorate', 'Prof-school',\n",
       "       '5th-6th', '10th', '1st-4th', 'Preschool', '12th'], dtype=object)"
      ]
     },
     "execution_count": 50,
     "metadata": {},
     "output_type": "execute_result"
    }
   ],
   "source": [
    "#Let's see all possible education groups\n",
    "df[\"education\"].unique()"
   ]
  },
  {
   "cell_type": "code",
   "execution_count": 51,
   "metadata": {},
   "outputs": [
    {
     "data": {
      "text/plain": [
       "array(['<=50K', '>50K'], dtype=object)"
      ]
     },
     "execution_count": 51,
     "metadata": {},
     "output_type": "execute_result"
    }
   ],
   "source": [
    "#Let's see all possible salary groups\n",
    "df[\"salary\"].unique()"
   ]
  },
  {
   "cell_type": "markdown",
   "metadata": {},
   "source": [
    "How many people belong to the high-income group (>50k per year) while, at the same time, holding *at least* a bachelor's degree? And how many people in total there are holding at least a bachelor's degree?"
   ]
  },
  {
   "cell_type": "code",
   "execution_count": 52,
   "metadata": {},
   "outputs": [],
   "source": [
    "rich_with_degrees = df[(df[\"salary\"]==\">50K\") & ((df[\"education\"]==\"Bachelors\")|(df[\"education\"]==\"Masters\")|(df[\"education\"]==\"Doctorate\"))]\n",
    "poor_with_degrees = df[(df[\"salary\"]==\"<=50K\") & ((df[\"education\"]==\"Bachelors\")|(df[\"education\"]==\"Masters\")|(df[\"education\"]==\"Doctorate\"))]\n",
    "\n",
    "total_with_degrees = df[(df[\"education\"]==\"Bachelors\")|(df[\"education\"]==\"Masters\")|(df[\"education\"]==\"Doctorate\")]\n"
   ]
  },
  {
   "cell_type": "code",
   "execution_count": 53,
   "metadata": {},
   "outputs": [
    {
     "name": "stdout",
     "output_type": "stream",
     "text": [
      "Of the people having at least a bachelor's degree, 46.54% is rich and belongs to the high-income group, while 53.46% belongs to the low-income group.\n"
     ]
    }
   ],
   "source": [
    "percentage_rich = len(rich_with_degrees)/len(total_with_degrees)\n",
    "formatted_percentage_rich = \"{:.2%}\".format(percentage_rich)\n",
    "\n",
    "\n",
    "print(f\"Of the people having at least a bachelor's degree, {formatted_percentage_rich} is rich and belongs to the high-income group, while {(len(poor_with_degrees)/len(total_with_degrees)):.2%} belongs to the low-income group.\") "
   ]
  },
  {
   "cell_type": "markdown",
   "metadata": {},
   "source": [
    "Now we know that if you have at least a bachelor's degree, you have roughly 47% probability of ending up in the high-income group. What is that probability if instead you hold an education **lower** than the Bachelor's?"
   ]
  },
  {
   "cell_type": "code",
   "execution_count": 54,
   "metadata": {},
   "outputs": [],
   "source": [
    "rich_without_degrees = df[(df[\"salary\"]==\">50K\") & ((df[\"education\"]!=\"Bachelors\") & (df[\"education\"]!=\"Masters\") & (df[\"education\"]!=\"Doctorate\"))]\n",
    "poor_without_degrees = df[(df[\"salary\"]==\"<=50K\") & ((df[\"education\"]!=\"Bachelors\") & (df[\"education\"]!=\"Masters\") & (df[\"education\"]!=\"Doctorate\"))]\n",
    "\n",
    "\n",
    "total_without_degrees = df[((df[\"education\"]!=\"Bachelors\") & (df[\"education\"]!=\"Masters\") & (df[\"education\"]!=\"Doctorate\"))]"
   ]
  },
  {
   "cell_type": "code",
   "execution_count": 55,
   "metadata": {},
   "outputs": [
    {
     "name": "stdout",
     "output_type": "stream",
     "text": [
      "Among people who do not hold at least a bachelor's degree, 17.37% have a high income, while 82.63% below to a low-income group.\n"
     ]
    }
   ],
   "source": [
    "percentage_rich_nodegree = len(rich_without_degrees)/len(total_without_degrees)\n",
    "percentage_poor_nodegree = len(poor_without_degrees)/len(total_without_degrees)\n",
    "\n",
    "print(f\"Among people who do not hold at least a bachelor's degree, {percentage_rich_nodegree:.2%} have a high income, while {percentage_poor_nodegree:.2%} below to a low-income group.\")"
   ]
  },
  {
   "cell_type": "markdown",
   "metadata": {},
   "source": [
    "We can then spot that having at least a bachelor's degree is associated with a probability of being rich that is almost 3 times higher compared to not having a bachelor's degree. \n",
    "\n",
    "Is this difference statistically significant, or is it likely for this to be a random effect? "
   ]
  },
  {
   "cell_type": "code",
   "execution_count": 56,
   "metadata": {},
   "outputs": [
    {
     "name": "stdout",
     "output_type": "stream",
     "text": [
      "There is a significant association between education level and income level, since the p-value is 0.00194%.\n"
     ]
    }
   ],
   "source": [
    "from scipy.stats import chi2_contingency\n",
    "\n",
    "observed_data = [[17.37, 82.63], [46.54, 53.46]]\n",
    "\n",
    "chi2_stat, p_value, _, _ = chi2_contingency(observed_data)\n",
    "\n",
    "if p_value < 0.05:\n",
    "    print(f\"There is a significant association between education level and income level, since the p-value is {p_value:.5%}.\")\n",
    "else:\n",
    "    print(f\"There is no significant association between education level and income level,  since the p-value is {p_value:.5%}.\")\n"
   ]
  },
  {
   "cell_type": "markdown",
   "metadata": {},
   "source": [
    "#### Working Conditions\n",
    "Let's investigate now a bit more the relationship between the country of origin of each individual in the sample, and their working conditions/salary."
   ]
  },
  {
   "cell_type": "code",
   "execution_count": 57,
   "metadata": {},
   "outputs": [
    {
     "data": {
      "text/plain": [
       "1"
      ]
     },
     "execution_count": 57,
     "metadata": {},
     "output_type": "execute_result"
    }
   ],
   "source": [
    "minimum_number_working_hours = df[\"hours-per-week\"].min()\n",
    "minimum_number_working_hours"
   ]
  },
  {
   "cell_type": "code",
   "execution_count": 58,
   "metadata": {},
   "outputs": [],
   "source": [
    "#Let's calculate how many people, and then how many *rich* people, only work the minimum amount of hours existing in the dataset.\n",
    "people_working_min = df[df[\"hours-per-week\"] == minimum_number_working_hours]\n",
    "\n",
    "rich_people_working_min = df[(df[\"hours-per-week\"] == minimum_number_working_hours) & (df[\"salary\"]==\">50K\")]"
   ]
  },
  {
   "cell_type": "code",
   "execution_count": 59,
   "metadata": {},
   "outputs": [
    {
     "name": "stdout",
     "output_type": "stream",
     "text": [
      "10.00% of the people who work the minimum amount of hours (i.e. 1 hour) belong to the high-income category.\n"
     ]
    }
   ],
   "source": [
    "percentage_rich_work_min = len(rich_people_working_min)/len(people_working_min)\n",
    "formatted_percentage_rich_work_min = \"{:.2%}\".format(percentage_rich_work_min)\n",
    "\n",
    "print(f\"{formatted_percentage_rich_work_min} of the people who work the minimum amount of hours (i.e. {minimum_number_working_hours} hour) belong to the high-income category.\")"
   ]
  },
  {
   "cell_type": "code",
   "execution_count": 60,
   "metadata": {},
   "outputs": [
    {
     "data": {
      "text/plain": [
       "array(['United-States', 'Cuba', 'Jamaica', 'India', '?', 'Mexico',\n",
       "       'South', 'Puerto-Rico', 'Honduras', 'England', 'Canada', 'Germany',\n",
       "       'Iran', 'Philippines', 'Italy', 'Poland', 'Columbia', 'Cambodia',\n",
       "       'Thailand', 'Ecuador', 'Laos', 'Taiwan', 'Haiti', 'Portugal',\n",
       "       'Dominican-Republic', 'El-Salvador', 'France', 'Guatemala',\n",
       "       'China', 'Japan', 'Yugoslavia', 'Peru',\n",
       "       'Outlying-US(Guam-USVI-etc)', 'Scotland', 'Trinadad&Tobago',\n",
       "       'Greece', 'Nicaragua', 'Vietnam', 'Hong', 'Ireland', 'Hungary',\n",
       "       'Holand-Netherlands'], dtype=object)"
      ]
     },
     "execution_count": 60,
     "metadata": {},
     "output_type": "execute_result"
    }
   ],
   "source": [
    "df[\"native-country\"].unique()"
   ]
  },
  {
   "cell_type": "code",
   "execution_count": 61,
   "metadata": {},
   "outputs": [],
   "source": [
    "#Since there is a typo in the dataframe, let's amend it.\n",
    "df[\"native-country\"].replace(\"Trinadad&Tobago\",\"Trinidad&Tobago\",inplace=True)\n"
   ]
  },
  {
   "cell_type": "code",
   "execution_count": 62,
   "metadata": {},
   "outputs": [],
   "source": [
    "#The original file used \"?\" to represent missing values. To avoid problems in the calculations let's replace those with np.NaN, and then drop those entries containing them.\n",
    "df[\"native-country\"].replace(\"?\",np.nan,inplace=True)\n",
    "df[\"native-country\"].dropna(inplace=True)\n",
    "\n"
   ]
  },
  {
   "cell_type": "code",
   "execution_count": 63,
   "metadata": {},
   "outputs": [
    {
     "data": {
      "text/plain": [
       "0        United-States\n",
       "1        United-States\n",
       "2        United-States\n",
       "3        United-States\n",
       "4                 Cuba\n",
       "             ...      \n",
       "32556    United-States\n",
       "32557    United-States\n",
       "32558    United-States\n",
       "32559    United-States\n",
       "32560    United-States\n",
       "Name: native-country, Length: 32561, dtype: object"
      ]
     },
     "execution_count": 63,
     "metadata": {},
     "output_type": "execute_result"
    }
   ],
   "source": [
    "country = df[\"native-country\"]\n",
    "country\n"
   ]
  },
  {
   "cell_type": "code",
   "execution_count": 64,
   "metadata": {},
   "outputs": [
    {
     "data": {
      "text/plain": [
       "{'United-States': '24.58%',\n",
       " 'Cuba': '26.32%',\n",
       " 'Jamaica': '12.35%',\n",
       " 'India': '40.00%',\n",
       " 'Mexico': '5.13%',\n",
       " 'South': '20.00%',\n",
       " 'Puerto-Rico': '10.53%',\n",
       " 'Honduras': '7.69%',\n",
       " 'England': '33.33%',\n",
       " 'Canada': '32.23%',\n",
       " 'Germany': '32.12%',\n",
       " 'Iran': '41.86%',\n",
       " 'Philippines': '30.81%',\n",
       " 'Italy': '34.25%',\n",
       " 'Poland': '20.00%',\n",
       " 'Columbia': '3.39%',\n",
       " 'Cambodia': '36.84%',\n",
       " 'Thailand': '16.67%',\n",
       " 'Ecuador': '14.29%',\n",
       " 'Laos': '11.11%',\n",
       " 'Taiwan': '39.22%',\n",
       " 'Haiti': '9.09%',\n",
       " 'Portugal': '10.81%',\n",
       " 'Dominican-Republic': '2.86%',\n",
       " 'El-Salvador': '8.49%',\n",
       " 'France': '41.38%',\n",
       " 'Guatemala': '4.69%',\n",
       " 'China': '26.67%',\n",
       " 'Japan': '38.71%',\n",
       " 'Yugoslavia': '37.50%',\n",
       " 'Peru': '6.45%',\n",
       " 'Scotland': '25.00%',\n",
       " 'Trinidad&Tobago': '10.53%',\n",
       " 'Greece': '27.59%',\n",
       " 'Nicaragua': '5.88%',\n",
       " 'Vietnam': '7.46%',\n",
       " 'Hong': '30.00%',\n",
       " 'Ireland': '20.83%',\n",
       " 'Hungary': '23.08%'}"
      ]
     },
     "execution_count": 64,
     "metadata": {},
     "output_type": "execute_result"
    }
   ],
   "source": [
    "#Let's print out each country existing in the dataset along with the percentage of people from that country who earn more than 50K per year.\n",
    "\n",
    "countries_and_perc = {}\n",
    "for i in df[\"native-country\"].unique():\n",
    "    total_natives_of_country = len(df[country==i])\n",
    "    rich_people_of_country = len(df[(df[\"native-country\"]==i) & (df[\"salary\"] == \">50K\")])\n",
    "    \n",
    "    if rich_people_of_country != 0:\n",
    "        perc_rich_people_of_country = \"{:.2%}\".format(rich_people_of_country/total_natives_of_country)\n",
    "        countries_and_perc[i] = perc_rich_people_of_country\n",
    "\n",
    "countries_and_perc"
   ]
  },
  {
   "cell_type": "markdown",
   "metadata": {},
   "source": [
    "Which country is the origin country having the highest percentage of rich people?"
   ]
  },
  {
   "cell_type": "code",
   "execution_count": 79,
   "metadata": {},
   "outputs": [],
   "source": [
    "\n",
    "def get_keys_from_value(dictionary, value_to_retrieve):\n",
    "    \"\"\"Retrieve the list of keys associated with a given value in a dictionary.\"\"\"\n",
    "    retrieved_keys = []\n",
    "    for key, value in dictionary.items():\n",
    "        if value == value_to_retrieve:\n",
    "            retrieved_keys.append(key)\n",
    "    return retrieved_keys\n",
    "\n",
    "# Assuming values in countries_and_perc are string representations of percentages like '12.34%'\n",
    "# Convert them to numerical values for comparison\n",
    "percentages = [float(value.rstrip('%')) for value in countries_and_perc.values()]\n",
    "\n",
    "max_percentage = np.max(percentages)\n",
    "\n",
    "country_max_percentage = get_keys_from_value(countries_and_perc, f'{max_percentage:.2f}%')\n",
    "percentage_max_country = countries_and_perc[country_max_percentage[0]]"
   ]
  },
  {
   "cell_type": "code",
   "execution_count": 80,
   "metadata": {},
   "outputs": [
    {
     "name": "stdout",
     "output_type": "stream",
     "text": [
      "The country having the highest percentage of rich people is ['Iran'], which has 41.86% rich people in the sample.\n"
     ]
    }
   ],
   "source": [
    "print(f\"The country having the highest percentage of rich people is {country_max_percentage}, which has {percentage_max_country} rich people in the sample.\")\n"
   ]
  },
  {
   "cell_type": "markdown",
   "metadata": {},
   "source": [
    "Out of curiosity, we could then ask: what is the most frequent occupation among these people originally from Iran who are rich?"
   ]
  },
  {
   "cell_type": "code",
   "execution_count": 85,
   "metadata": {},
   "outputs": [
    {
     "name": "stdout",
     "output_type": "stream",
     "text": [
      "The most frequent occupation among rich people originally from Iran is Prof-specialty.\n"
     ]
    }
   ],
   "source": [
    "rich_iran_people = df[(df[\"native-country\"]==\"Iran\") & (df[\"salary\"]==\">50K\")]\n",
    "\n",
    "most_frequent_occupation_rich_iran = rich_iran_people[\"occupation\"].mode()\n",
    "\n",
    "print(f\"The most frequent occupation among rich people originally from Iran is {most_frequent_occupation_rich_iran[0]}.\")\n"
   ]
  }
 ],
 "metadata": {
  "kernelspec": {
   "display_name": "Python 3",
   "language": "python",
   "name": "python3"
  },
  "language_info": {
   "codemirror_mode": {
    "name": "ipython",
    "version": 3
   },
   "file_extension": ".py",
   "mimetype": "text/x-python",
   "name": "python",
   "nbconvert_exporter": "python",
   "pygments_lexer": "ipython3",
   "version": "3.11.6"
  }
 },
 "nbformat": 4,
 "nbformat_minor": 2
}
