{
 "cells": [
  {
   "cell_type": "code",
   "execution_count": 1,
   "metadata": {},
   "outputs": [
    {
     "name": "stderr",
     "output_type": "stream",
     "text": [
      "C:\\Users\\matte\\AppData\\Local\\Temp\\ipykernel_16956\\1277966302.py:23: DtypeWarning: Columns (6) have mixed types. Specify dtype option on import or set low_memory=False.\n",
      "  df = pd.read_csv(csv_file)\n"
     ]
    },
    {
     "name": "stdout",
     "output_type": "stream",
     "text": [
      "DataFrame created successfully!\n"
     ]
    }
   ],
   "source": [
    "import requests\n",
    "import zipfile\n",
    "import pandas as pd\n",
    "from io import BytesIO\n",
    "\n",
    "# Define the URL of the ZIP file\n",
    "url = \"https://bulkdata.uspto.gov/data/patent/assignment/economics/2022/assignment.csv.zip\"\n",
    "\n",
    "# Send an HTTP GET request to the URL\n",
    "response = requests.get(url)\n",
    "\n",
    "# Check if the request was successful (status code 200)\n",
    "if response.status_code == 200:\n",
    "    # Get the content of the ZIP file\n",
    "    zip_content = BytesIO(response.content)\n",
    "\n",
    "    # Extract the ZIP file\n",
    "    with zipfile.ZipFile(zip_content, 'r') as zip_file:\n",
    "        # Assuming there's only one CSV file in the ZIP, extract it\n",
    "        csv_filename = zip_file.namelist()[0]\n",
    "        with zip_file.open(csv_filename) as csv_file:\n",
    "            # Read the CSV data into a pandas DataFrame\n",
    "            df = pd.read_csv(csv_file)\n",
    "\n",
    "    # Now, 'df' contains the data from the CSV file\n",
    "    print(\"DataFrame created.\")\n",
    "\n",
    "else:\n",
    "    print(\"Failed to download the ZIP file. Status code:\", response.status_code)\n"
   ]
  }
 ],
 "metadata": {
  "kernelspec": {
   "display_name": "Python 3",
   "language": "python",
   "name": "python3"
  },
  "language_info": {
   "codemirror_mode": {
    "name": "ipython",
    "version": 3
   },
   "file_extension": ".py",
   "mimetype": "text/x-python",
   "name": "python",
   "nbconvert_exporter": "python",
   "pygments_lexer": "ipython3",
   "version": "3.11.6"
  }
 },
 "nbformat": 4,
 "nbformat_minor": 2
}
