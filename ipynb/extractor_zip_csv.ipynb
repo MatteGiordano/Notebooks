{
 "cells": [
  {
   "cell_type": "code",
   "execution_count": null,
   "metadata": {},
   "outputs": [],
   "source": [
    "import requests\n",
    "import zipfile\n",
    "import pandas as pd\n",
    "from io import BytesIO\n",
    "\n",
    "import warnings\n",
    "warnings.filterwarnings('ignore')\n",
    "\n",
    "\"\"\" Define the URL of the ZIP file\n",
    "By default, I put as URL the one for the assignment dataset. The other CSV files can be found at:\n",
    "\n",
    "*documentid* : https://bulkdata.uspto.gov/data/patent/assignment/economics/2022/documentid.csv.zip\n",
    "\n",
    "*assignee* : https://bulkdata.uspto.gov/data/patent/assignment/economics/2022/assignee.csv.zip\n",
    "\"\"\"\n",
    "\n",
    "url = \"https://bulkdata.uspto.gov/data/patent/assignment/economics/2022/assignment.csv.zip\"\n",
    "\n",
    "# Send an HTTP GET request to the URL\n",
    "response = requests.get(url)\n",
    "\n",
    "# Check if the request was successful (status code 200)\n",
    "if response.status_code == 200:\n",
    "    # Get the content of the ZIP file\n",
    "    zip_content = BytesIO(response.content)\n",
    "\n",
    "    # Extract the ZIP file\n",
    "    with zipfile.ZipFile(zip_content, 'r') as zip_file:\n",
    "        \n",
    "        csv_filename = zip_file.namelist()[0]\n",
    "        with zip_file.open(csv_filename) as csv_file:\n",
    "            # Read the CSV data into a pandas DataFrame\n",
    "            df = pd.read_csv(csv_file)\n",
    "\n",
    "    # Now, 'df' contains the data from the CSV file\n",
    "    print(\"DataFrame created.\")\n",
    "\n",
    "else:\n",
    "    print(\"Failed to download the ZIP file. Status code:\", response.status_code)\n"
   ]
  }
 ],
 "metadata": {
  "kernelspec": {
   "display_name": "Python 3",
   "language": "python",
   "name": "python3"
  },
  "language_info": {
   "codemirror_mode": {
    "name": "ipython",
    "version": 3
   },
   "file_extension": ".py",
   "mimetype": "text/x-python",
   "name": "python",
   "nbconvert_exporter": "python",
   "pygments_lexer": "ipython3",
   "version": "3.11.6"
  }
 },
 "nbformat": 4,
 "nbformat_minor": 2
}
