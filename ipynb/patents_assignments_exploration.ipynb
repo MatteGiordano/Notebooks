{
 "cells": [
  {
   "cell_type": "markdown",
   "metadata": {},
   "source": [
    "# Data Exploration: Patents Assignments"
   ]
  },
  {
   "cell_type": "code",
   "execution_count": 1,
   "metadata": {},
   "outputs": [],
   "source": [
    "import pandas as pd\n",
    "import matplotlib.pyplot as plt\n",
    "import numpy as np\n",
    "import datetime as dt\n",
    "import plotly.express as px\n",
    "%matplotlib inline "
   ]
  },
  {
   "cell_type": "code",
   "execution_count": 2,
   "metadata": {},
   "outputs": [],
   "source": [
    "df = pd.read_csv(\"../csv/CleanedDatasetPatents.csv\")"
   ]
  },
  {
   "cell_type": "code",
   "execution_count": 3,
   "metadata": {},
   "outputs": [],
   "source": [
    "df[\"date_of_grant\"] = pd.to_datetime(df[\"date_of_grant\"])\n",
    "df[\"date_of_application\"] = pd.to_datetime(df[\"date_of_application\"])"
   ]
  },
  {
   "cell_type": "code",
   "execution_count": 3,
   "metadata": {},
   "outputs": [
    {
     "name": "stdout",
     "output_type": "stream",
     "text": [
      "<class 'pandas.core.frame.DataFrame'>\n",
      "RangeIndex: 7565066 entries, 0 to 7565065\n",
      "Data columns (total 11 columns):\n",
      " #   Column               Dtype \n",
      "---  ------               ----- \n",
      " 0   id                   int64 \n",
      " 1   file_id              int64 \n",
      " 2   applicant_city       object\n",
      " 3   applicant_state      object\n",
      " 4   postcode             object\n",
      " 5   country              object\n",
      " 6   date_of_application  object\n",
      " 7   date_of_grant        object\n",
      " 8   application_year     int64 \n",
      " 9   grant_year           int64 \n",
      " 10  country_numerized    int64 \n",
      "dtypes: int64(5), object(6)\n",
      "memory usage: 634.9+ MB\n"
     ]
    }
   ],
   "source": [
    "df.info()"
   ]
  },
  {
   "cell_type": "code",
   "execution_count": 5,
   "metadata": {},
   "outputs": [],
   "source": [
    "df[\"time_between_appl_grant\"] = (df[\"date_of_grant\"] - df[\"date_of_application\"]).dt.days"
   ]
  },
  {
   "cell_type": "code",
   "execution_count": 6,
   "metadata": {},
   "outputs": [],
   "source": [
    "df.sort_values(by=\"date_of_application\", inplace=True)"
   ]
  },
  {
   "cell_type": "markdown",
   "metadata": {},
   "source": [
    "Let's remove outliers above the 97.5% quantile and below the 2.5% quantile"
   ]
  },
  {
   "cell_type": "code",
   "execution_count": 7,
   "metadata": {},
   "outputs": [],
   "source": [
    "df = df[(df[\"time_between_appl_grant\"]<df[\"time_between_appl_grant\"].quantile(0.975)) & (df[\"time_between_appl_grant\"]>df[\"time_between_appl_grant\"].quantile(0.025))]"
   ]
  },
  {
   "cell_type": "code",
   "execution_count": 8,
   "metadata": {},
   "outputs": [],
   "source": [
    "df = df[df[\"country\"] != \"NOT PROVIDED\"]"
   ]
  },
  {
   "cell_type": "code",
   "execution_count": 9,
   "metadata": {},
   "outputs": [
    {
     "data": {
      "text/plain": [
       "country\n",
       "USA                   3661338\n",
       "JAPAN                 1282771\n",
       "GERMANY                413344\n",
       "KOREA, REPUBLIC OF     300051\n",
       "TAIWAN                 199346\n",
       "                       ...   \n",
       "ZAMBIA                      1\n",
       "MALI                        1\n",
       "WALLIS AND FUTUNA           1\n",
       "KIRIBATI                    1\n",
       "LESOTHO                     1\n",
       "Name: count, Length: 253, dtype: int64"
      ]
     },
     "execution_count": 9,
     "metadata": {},
     "output_type": "execute_result"
    }
   ],
   "source": [
    "df.country.value_counts()"
   ]
  },
  {
   "cell_type": "code",
   "execution_count": 10,
   "metadata": {},
   "outputs": [],
   "source": [
    "#Extract ISO-Country code from the name of the Country\n",
    "import pycountry\n",
    "def do_fuzzy_search(country):\n",
    "    try:\n",
    "        result = pycountry.countries.search_fuzzy(country)\n",
    "    except Exception:\n",
    "        return np.nan\n",
    "    else:\n",
    "        return result[0].alpha_3\n",
    "\n",
    "iso_map = {country: do_fuzzy_search(country) for country in df[\"country\"].unique()}\n",
    "df[\"country_code\"] = df[\"country\"].map(iso_map)"
   ]
  },
  {
   "cell_type": "code",
   "execution_count": 11,
   "metadata": {},
   "outputs": [],
   "source": [
    "df.dropna(subset=\"country_code\", inplace=True)"
   ]
  },
  {
   "cell_type": "code",
   "execution_count": 12,
   "metadata": {},
   "outputs": [],
   "source": [
    "yearly_avg = df.groupby(\"application_year\")[\"time_between_appl_grant\"].mean()\n"
   ]
  },
  {
   "cell_type": "code",
   "execution_count": 13,
   "metadata": {},
   "outputs": [
    {
     "data": {
      "text/plain": [
       "array([ 624.        ,  718.        , 1863.        , 1175.33333333,\n",
       "       1294.        , 1324.13333333, 1357.        , 1178.03448276,\n",
       "       1037.05882353,  853.86538462,  967.6746988 , 1006.75789474,\n",
       "        884.39473684,  844.3173913 ,  818.97777778,  790.44654088,\n",
       "        721.49071618,  693.13377193,  769.86993243,  906.84597433,\n",
       "        963.58172531,  972.42061069,  807.50244808,  795.71569202,\n",
       "        841.54065065,  853.5701982 ,  829.81734218,  786.1631776 ,\n",
       "        747.15592663,  722.27336168,  695.31743407,  679.09680722,\n",
       "        693.90694547,  690.93685976,  698.88631417,  703.5170485 ,\n",
       "        721.52239359,  761.04327366,  837.76736376,  838.89587147,\n",
       "        854.85649855,  893.44463531,  924.22788537,  987.34868646,\n",
       "       1008.21319295, 1032.94186024, 1099.80194658, 1182.34759552,\n",
       "       1221.62734612, 1243.11059194, 1246.40245548, 1230.42212728,\n",
       "       1180.21801697, 1123.65334618, 1064.76384461, 1005.34147096,\n",
       "        986.64567376,  956.95000458,  918.19627389,  881.96044976,\n",
       "        830.67169804,  776.66871394,  662.10022463,  506.08405676,\n",
       "        335.21985572])"
      ]
     },
     "execution_count": 13,
     "metadata": {},
     "output_type": "execute_result"
    }
   ],
   "source": [
    "yearly_avg.unique()"
   ]
  },
  {
   "cell_type": "code",
   "execution_count": 14,
   "metadata": {},
   "outputs": [
    {
     "data": {
      "text/plain": [
       "Text(0.5, 0, 'Application Year')"
      ]
     },
     "execution_count": 14,
     "metadata": {},
     "output_type": "execute_result"
    },
    {
     "data": {
      "image/png": "[encoded data removed]",
      "text/plain": [
       "<Figure size 640x480 with 1 Axes>"
      ]
     },
     "metadata": {},
     "output_type": "display_data"
    }
   ],
   "source": [
    "fig, ax = plt.subplots()\n",
    "\n",
    "ax.plot(yearly_avg, marker='o')\n",
    "ax.set_ylabel(\"Average Days Between Application and Grant\")\n",
    "ax.set_xlabel(\"Application Year\")\n"
   ]
  },
  {
   "cell_type": "code",
   "execution_count": 15,
   "metadata": {},
   "outputs": [],
   "source": [
    "count_per_country = df.groupby(by=[\"country\",\"grant_year\"])[\"id\"].count()\n"
   ]
  },
  {
   "cell_type": "markdown",
   "metadata": {},
   "source": [
    "Let's set a seed and extract a random sample from the dataset."
   ]
  },
  {
   "cell_type": "code",
   "execution_count": 16,
   "metadata": {},
   "outputs": [],
   "source": [
    "random_seed = 42\n",
    "sampled_df = df.sample(100000,random_state=random_seed)\n",
    "\n"
   ]
  },
  {
   "cell_type": "code",
   "execution_count": 17,
   "metadata": {},
   "outputs": [],
   "source": [
    "sampled_df.set_index(\"id\",inplace=True)"
   ]
  },
  {
   "cell_type": "code",
   "execution_count": 18,
   "metadata": {},
   "outputs": [
    {
     "data": {
      "text/html": [
       "<div>\n",
       "<style scoped>\n",
       "    .dataframe tbody tr th:only-of-type {\n",
       "        vertical-align: middle;\n",
       "    }\n",
       "\n",
       "    .dataframe tbody tr th {\n",
       "        vertical-align: top;\n",
       "    }\n",
       "\n",
       "    .dataframe thead th {\n",
       "        text-align: right;\n",
       "    }\n",
       "</style>\n",
       "<table border=\"1\" class=\"dataframe\">\n",
       "  <thead>\n",
       "    <tr style=\"text-align: right;\">\n",
       "      <th></th>\n",
       "      <th>file_id</th>\n",
       "      <th>applicant_city</th>\n",
       "      <th>applicant_state</th>\n",
       "      <th>postcode</th>\n",
       "      <th>country</th>\n",
       "      <th>date_of_application</th>\n",
       "      <th>date_of_grant</th>\n",
       "      <th>application_year</th>\n",
       "      <th>grant_year</th>\n",
       "      <th>country_numerized</th>\n",
       "      <th>time_between_appl_grant</th>\n",
       "      <th>country_code</th>\n",
       "    </tr>\n",
       "    <tr>\n",
       "      <th>id</th>\n",
       "      <th></th>\n",
       "      <th></th>\n",
       "      <th></th>\n",
       "      <th></th>\n",
       "      <th></th>\n",
       "      <th></th>\n",
       "      <th></th>\n",
       "      <th></th>\n",
       "      <th></th>\n",
       "      <th></th>\n",
       "      <th></th>\n",
       "      <th></th>\n",
       "    </tr>\n",
       "  </thead>\n",
       "  <tbody>\n",
       "    <tr>\n",
       "      <th>561020953</th>\n",
       "      <td>20</td>\n",
       "      <td>SANTA CLARA</td>\n",
       "      <td>CALIFORNIA</td>\n",
       "      <td>95054</td>\n",
       "      <td>USA</td>\n",
       "      <td>2019-05-10</td>\n",
       "      <td>2021-09-07</td>\n",
       "      <td>2019</td>\n",
       "      <td>2021</td>\n",
       "      <td>241</td>\n",
       "      <td>851</td>\n",
       "      <td>USA</td>\n",
       "    </tr>\n",
       "    <tr>\n",
       "      <th>108470135</th>\n",
       "      <td>4</td>\n",
       "      <td>DOVER</td>\n",
       "      <td>DELAWARE</td>\n",
       "      <td>19901</td>\n",
       "      <td>USA</td>\n",
       "      <td>1999-09-13</td>\n",
       "      <td>2003-12-09</td>\n",
       "      <td>1999</td>\n",
       "      <td>2003</td>\n",
       "      <td>241</td>\n",
       "      <td>1548</td>\n",
       "      <td>USA</td>\n",
       "    </tr>\n",
       "    <tr>\n",
       "      <th>232360165</th>\n",
       "      <td>10</td>\n",
       "      <td>HAMILTON</td>\n",
       "      <td>NaN</td>\n",
       "      <td>HM12</td>\n",
       "      <td>BERMUDA</td>\n",
       "      <td>2009-09-10</td>\n",
       "      <td>2013-01-08</td>\n",
       "      <td>2009</td>\n",
       "      <td>2013</td>\n",
       "      <td>23</td>\n",
       "      <td>1216</td>\n",
       "      <td>BMU</td>\n",
       "    </tr>\n",
       "    <tr>\n",
       "      <th>56970157</th>\n",
       "      <td>2</td>\n",
       "      <td>WARRENDALE</td>\n",
       "      <td>PENNSYLVANIA</td>\n",
       "      <td>NaN</td>\n",
       "      <td>USA</td>\n",
       "      <td>1991-04-08</td>\n",
       "      <td>1993-11-16</td>\n",
       "      <td>1991</td>\n",
       "      <td>1993</td>\n",
       "      <td>241</td>\n",
       "      <td>953</td>\n",
       "      <td>USA</td>\n",
       "    </tr>\n",
       "    <tr>\n",
       "      <th>409360889</th>\n",
       "      <td>16</td>\n",
       "      <td>BEIJING</td>\n",
       "      <td>NaN</td>\n",
       "      <td>100015</td>\n",
       "      <td>CHINA</td>\n",
       "      <td>2017-01-09</td>\n",
       "      <td>2019-01-22</td>\n",
       "      <td>2017</td>\n",
       "      <td>2019</td>\n",
       "      <td>42</td>\n",
       "      <td>743</td>\n",
       "      <td>CHN</td>\n",
       "    </tr>\n",
       "    <tr>\n",
       "      <th>...</th>\n",
       "      <td>...</td>\n",
       "      <td>...</td>\n",
       "      <td>...</td>\n",
       "      <td>...</td>\n",
       "      <td>...</td>\n",
       "      <td>...</td>\n",
       "      <td>...</td>\n",
       "      <td>...</td>\n",
       "      <td>...</td>\n",
       "      <td>...</td>\n",
       "      <td>...</td>\n",
       "      <td>...</td>\n",
       "    </tr>\n",
       "    <tr>\n",
       "      <th>397780405</th>\n",
       "      <td>16</td>\n",
       "      <td>ARMONK</td>\n",
       "      <td>NEW YORK</td>\n",
       "      <td>10504</td>\n",
       "      <td>USA</td>\n",
       "      <td>2016-06-30</td>\n",
       "      <td>2020-08-11</td>\n",
       "      <td>2016</td>\n",
       "      <td>2020</td>\n",
       "      <td>241</td>\n",
       "      <td>1503</td>\n",
       "      <td>USA</td>\n",
       "    </tr>\n",
       "    <tr>\n",
       "      <th>58850481</th>\n",
       "      <td>2</td>\n",
       "      <td>URAWASHI SAITAMAKEN</td>\n",
       "      <td>NaN</td>\n",
       "      <td>NaN</td>\n",
       "      <td>JAPAN</td>\n",
       "      <td>1991-10-11</td>\n",
       "      <td>1993-07-27</td>\n",
       "      <td>1991</td>\n",
       "      <td>1993</td>\n",
       "      <td>110</td>\n",
       "      <td>655</td>\n",
       "      <td>JPN</td>\n",
       "    </tr>\n",
       "    <tr>\n",
       "      <th>154640254</th>\n",
       "      <td>7</td>\n",
       "      <td>TOKYO</td>\n",
       "      <td>NaN</td>\n",
       "      <td>NaN</td>\n",
       "      <td>JAPAN</td>\n",
       "      <td>2003-12-24</td>\n",
       "      <td>2006-02-28</td>\n",
       "      <td>2003</td>\n",
       "      <td>2006</td>\n",
       "      <td>110</td>\n",
       "      <td>797</td>\n",
       "      <td>JPN</td>\n",
       "    </tr>\n",
       "    <tr>\n",
       "      <th>241960419</th>\n",
       "      <td>11</td>\n",
       "      <td>AICHI</td>\n",
       "      <td>NaN</td>\n",
       "      <td>471-8571</td>\n",
       "      <td>JAPAN</td>\n",
       "      <td>2010-04-07</td>\n",
       "      <td>2014-06-17</td>\n",
       "      <td>2010</td>\n",
       "      <td>2014</td>\n",
       "      <td>110</td>\n",
       "      <td>1532</td>\n",
       "      <td>JPN</td>\n",
       "    </tr>\n",
       "    <tr>\n",
       "      <th>336600949</th>\n",
       "      <td>14</td>\n",
       "      <td>SAN FRANCISCO</td>\n",
       "      <td>CALIFORNIA</td>\n",
       "      <td>94103</td>\n",
       "      <td>USA</td>\n",
       "      <td>2014-05-13</td>\n",
       "      <td>2018-01-16</td>\n",
       "      <td>2014</td>\n",
       "      <td>2018</td>\n",
       "      <td>241</td>\n",
       "      <td>1344</td>\n",
       "      <td>USA</td>\n",
       "    </tr>\n",
       "  </tbody>\n",
       "</table>\n",
       "<p>100000 rows × 12 columns</p>\n",
       "</div>"
      ],
      "text/plain": [
       "           file_id       applicant_city applicant_state  postcode  country  \\\n",
       "id                                                                           \n",
       "561020953       20          SANTA CLARA      CALIFORNIA     95054      USA   \n",
       "108470135        4                DOVER        DELAWARE     19901      USA   \n",
       "232360165       10             HAMILTON             NaN      HM12  BERMUDA   \n",
       "56970157         2           WARRENDALE    PENNSYLVANIA       NaN      USA   \n",
       "409360889       16              BEIJING             NaN    100015    CHINA   \n",
       "...            ...                  ...             ...       ...      ...   \n",
       "397780405       16               ARMONK        NEW YORK     10504      USA   \n",
       "58850481         2  URAWASHI SAITAMAKEN             NaN       NaN    JAPAN   \n",
       "154640254        7                TOKYO             NaN       NaN    JAPAN   \n",
       "241960419       11                AICHI             NaN  471-8571    JAPAN   \n",
       "336600949       14        SAN FRANCISCO      CALIFORNIA     94103      USA   \n",
       "\n",
       "          date_of_application date_of_grant  application_year  grant_year  \\\n",
       "id                                                                          \n",
       "561020953          2019-05-10    2021-09-07              2019        2021   \n",
       "108470135          1999-09-13    2003-12-09              1999        2003   \n",
       "232360165          2009-09-10    2013-01-08              2009        2013   \n",
       "56970157           1991-04-08    1993-11-16              1991        1993   \n",
       "409360889          2017-01-09    2019-01-22              2017        2019   \n",
       "...                       ...           ...               ...         ...   \n",
       "397780405          2016-06-30    2020-08-11              2016        2020   \n",
       "58850481           1991-10-11    1993-07-27              1991        1993   \n",
       "154640254          2003-12-24    2006-02-28              2003        2006   \n",
       "241960419          2010-04-07    2014-06-17              2010        2014   \n",
       "336600949          2014-05-13    2018-01-16              2014        2018   \n",
       "\n",
       "           country_numerized  time_between_appl_grant country_code  \n",
       "id                                                                  \n",
       "561020953                241                      851          USA  \n",
       "108470135                241                     1548          USA  \n",
       "232360165                 23                     1216          BMU  \n",
       "56970157                 241                      953          USA  \n",
       "409360889                 42                      743          CHN  \n",
       "...                      ...                      ...          ...  \n",
       "397780405                241                     1503          USA  \n",
       "58850481                 110                      655          JPN  \n",
       "154640254                110                      797          JPN  \n",
       "241960419                110                     1532          JPN  \n",
       "336600949                241                     1344          USA  \n",
       "\n",
       "[100000 rows x 12 columns]"
      ]
     },
     "execution_count": 18,
     "metadata": {},
     "output_type": "execute_result"
    }
   ],
   "source": [
    "sampled_df"
   ]
  },
  {
   "cell_type": "code",
   "execution_count": 19,
   "metadata": {},
   "outputs": [],
   "source": [
    "sampled_df.to_csv(\"sample_geomaps_patents.csv\")"
   ]
  },
  {
   "cell_type": "code",
   "execution_count": 20,
   "metadata": {},
   "outputs": [],
   "source": [
    "from sklearn.linear_model import LinearRegression\n",
    "\n",
    "# Create a linear regression model\n",
    "model = LinearRegression()\n",
    "\n",
    "# Fit the model to the sample data\n",
    "X = sampled_df[['country_numerized']]\n",
    "y = sampled_df['time_between_appl_grant']\n",
    "model.fit(X, y)\n",
    "\n",
    "# Extract the coefficients\n",
    "slope = model.coef_[0]\n",
    "intercept = model.intercept_\n",
    "\n",
    "# Apply the linear regression model to the original dataset\n",
    "df['predicted_time_between_appl_grant'] = (df['country_numerized'] * slope) + intercept\n",
    "\n"
   ]
  },
  {
   "cell_type": "code",
   "execution_count": 21,
   "metadata": {},
   "outputs": [],
   "source": [
    "\n",
    "# Specify the number of random entries to predict\n",
    "num_entries_to_predict = 10000\n",
    "\n",
    "random_seed_2=45\n",
    "# Select a random subset of entries\n",
    "random_entries = df.sample(n=num_entries_to_predict, random_state=random_seed_2)\n",
    "\n",
    "# Predict time_between_appl_grant for the random entries\n",
    "random_entries['predicted_time_between_appl_grant'] = (random_entries['country_numerized'] * slope) + intercept\n"
   ]
  },
  {
   "cell_type": "code",
   "execution_count": 22,
   "metadata": {},
   "outputs": [
    {
     "name": "stdout",
     "output_type": "stream",
     "text": [
      "Mean Absolute Error (MAE): 345.9622667438089\n",
      "Mean Squared Error (MSE): 194184.45584272925\n",
      "Root Mean Squared Error (RMSE): 440.6636538707603\n",
      "R-squared (R2): 0.0019359964949484665\n"
     ]
    }
   ],
   "source": [
    "from sklearn.metrics import mean_absolute_error, mean_squared_error, r2_score\n",
    "import numpy as np\n",
    "\n",
    "# Get the actual values for the random entries\n",
    "actual_values = random_entries['time_between_appl_grant']\n",
    "\n",
    "# Get the predicted values from your model\n",
    "predicted_values = random_entries['predicted_time_between_appl_grant']\n",
    "\n",
    "# Calculate evaluation metrics\n",
    "mae = mean_absolute_error(actual_values, predicted_values)\n",
    "mse = mean_squared_error(actual_values, predicted_values)\n",
    "rmse = np.sqrt(mse)\n",
    "r2 = r2_score(actual_values, predicted_values)\n",
    "\n",
    "print(f\"Mean Absolute Error (MAE): {mae}\")\n",
    "print(f\"Mean Squared Error (MSE): {mse}\")\n",
    "print(f\"Root Mean Squared Error (RMSE): {rmse}\")\n",
    "print(f\"R-squared (R2): {r2}\")\n"
   ]
  }
 ],
 "metadata": {
  "kernelspec": {
   "display_name": "Python 3",
   "language": "python",
   "name": "python3"
  },
  "language_info": {
   "codemirror_mode": {
    "name": "ipython",
    "version": 3
   },
   "file_extension": ".py",
   "mimetype": "text/x-python",
   "name": "python",
   "nbconvert_exporter": "python",
   "pygments_lexer": "ipython3",
   "version": "3.11.6"
  }
 },
 "nbformat": 4,
 "nbformat_minor": 2
}
